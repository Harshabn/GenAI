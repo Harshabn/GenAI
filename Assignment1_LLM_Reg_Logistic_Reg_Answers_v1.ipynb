{
  "nbformat": 4,
  "nbformat_minor": 0,
  "metadata": {
    "colab": {
      "provenance": [],
      "include_colab_link": true
    },
    "kernelspec": {
      "name": "python3",
      "display_name": "Python 3"
    },
    "language_info": {
      "name": "python"
    }
  },
  "cells": [
    {
      "cell_type": "markdown",
      "metadata": {
        "id": "view-in-github",
        "colab_type": "text"
      },
      "source": [
        "<a href=\"https://colab.research.google.com/github/Harshabn/GenAI/blob/main/Assignment1_LLM_Reg_Logistic_Reg_Answers_v1.ipynb\" target=\"_parent\"><img src=\"https://colab.research.google.com/assets/colab-badge.svg\" alt=\"Open In Colab\"/></a>"
      ]
    },
    {
      "cell_type": "markdown",
      "source": [
        "# Important Note\n",
        "\n",
        "**Utilize applications powered by large language models (LLMs) to search for the necessary code and content to answer all the questions in this assignment. Avoid using Google Search. Create a login ID or account with well-known large language models like Copilot, ChatGPT, Gemini, and Claud. These platforms will provide the resources you need to complete the tasks effectively.**\n",
        "\n",
        "---\n",
        "\n",
        "\n"
      ],
      "metadata": {
        "id": "EgYmmEDSNHCv"
      }
    },
    {
      "cell_type": "code",
      "source": [
        "!pip install openai\n",
        "!pip install langchain\n",
        "!pip install Cohere\n",
        "!pip install langchain_community"
      ],
      "metadata": {
        "id": "7B8W_I1cnmP7"
      },
      "execution_count": null,
      "outputs": []
    },
    {
      "cell_type": "code",
      "source": [
        "import os\n",
        "from google.colab import userdata\n",
        "os.environ[\"OPENAI_API_KEY\"] =\"Your Key\"\n",
        "os.environ[\"COHERE_API_KEY\"] =userdata.get('COHERE_API_KEY')\n",
        "os.environ[\"OPENAI_API_KEY\"] =userdata.get('OPENAI_API_KEY')"
      ],
      "metadata": {
        "id": "UO8spPCyn4jO"
      },
      "execution_count": null,
      "outputs": []
    },
    {
      "cell_type": "markdown",
      "source": [
        "# Q1) Use Gemini or any LLM to come up with new business or product ideas for millennials in Bangalore. The ideas should be aimed at software professionals and need only a small amount of money to start. Describe the prompts you used and share 3-5 of the most interesting ideas it came up with."
      ],
      "metadata": {
        "id": "aKmP11veO9T0"
      }
    },
    {
      "cell_type": "code",
      "execution_count": null,
      "metadata": {
        "id": "_8RokFHONBb3"
      },
      "outputs": [],
      "source": [
        "import langchain\n",
        "from langchain.llms import OpenAI, Cohere\n",
        "\n",
        "prompt=\"\"\"\n",
        "come up with new business or product ideas for millennials in Bangalore.\n",
        "The ideas should be aimed at software professionals and need only a small amount of money to start.\n",
        "Give me 10 business ideas\n",
        "\"\"\"\n",
        "\n",
        "#llm=OpenAI()\n",
        "llm=Cohere()\n",
        "result=llm.invoke(prompt)\n",
        "print(result)"
      ]
    },
    {
      "cell_type": "code",
      "source": [],
      "metadata": {
        "id": "eza6lZ23PpgO"
      },
      "execution_count": null,
      "outputs": []
    },
    {
      "cell_type": "markdown",
      "source": [
        "# Q2) Use Claude or any LLM to make 5 multiple-choice questions on pandas data handling and 5 on numpy. Try generating the questions several times and choose the best ones. Review the questions to ensure they are good and correct."
      ],
      "metadata": {
        "id": "H6HsWNDcPqKk"
      }
    },
    {
      "cell_type": "code",
      "source": [
        "llm=OpenAI()\n",
        "\n",
        "prompt=\"\"\"\n",
        "Generate 5 multiple-choice questions on pandas data handling\n",
        "\"\"\"\n",
        "\n",
        "result=llm.invoke(prompt)\n",
        "print(result)"
      ],
      "metadata": {
        "id": "unpEX6_EPr5x"
      },
      "execution_count": null,
      "outputs": []
    },
    {
      "cell_type": "code",
      "source": [
        "llm=OpenAI()\n",
        "\n",
        "prompt=\"\"\"\n",
        "Generate 5 multiple-choice questions on numpy\n",
        "\"\"\"\n",
        "result=llm.invoke(prompt)\n",
        "print(result)"
      ],
      "metadata": {
        "id": "mVAIdgEfQZeF"
      },
      "execution_count": null,
      "outputs": []
    },
    {
      "cell_type": "markdown",
      "source": [
        "# Q3) Building and Validating the model"
      ],
      "metadata": {
        "id": "kLrxsF5ySt1n"
      }
    },
    {
      "cell_type": "markdown",
      "source": [
        "## Q3.1) Write code to import data from the below location\n",
        "\n",
        "https://raw.githubusercontent.com/venkatareddykonasani/Datasets/master/Credit%20Risk%20Data_balanced/Credit_risk_data_bal_v2.csv"
      ],
      "metadata": {
        "id": "WEltHv15QZ28"
      }
    },
    {
      "cell_type": "code",
      "source": [
        "# Import data from https://raw.githubusercontent.com/venkatareddykonasani/Datasets/master/Credit%20Risk%20Data_balanced/Credit_risk_data_bal_v2.csv\n",
        "\n",
        "import pandas as pd\n",
        "df=pd.read_csv(\"https://raw.githubusercontent.com/venkatareddykonasani/Datasets/master/Credit%20Risk%20Data_balanced/Credit_risk_data_bal_v2.csv\")\n",
        "df.head()\n"
      ],
      "metadata": {
        "id": "amnNoHr3bbJo"
      },
      "execution_count": null,
      "outputs": []
    },
    {
      "cell_type": "code",
      "source": [
        "df.info()"
      ],
      "metadata": {
        "id": "HiyigOE4bbPC"
      },
      "execution_count": null,
      "outputs": []
    },
    {
      "cell_type": "markdown",
      "source": [
        "## Q3.2)  Write code for Splitting the data into Train Test"
      ],
      "metadata": {
        "id": "c5oHa-O_R7_g"
      }
    },
    {
      "cell_type": "code",
      "source": [
        "import sklearn\n",
        "from sklearn.model_selection import train_test_split"
      ],
      "metadata": {
        "id": "YjiIji2HR8x_"
      },
      "execution_count": null,
      "outputs": []
    },
    {
      "cell_type": "code",
      "source": [
        "train, test= train_test_split(df, test_size=0.2, random_state=42)"
      ],
      "metadata": {
        "id": "270ijPOYbc0m"
      },
      "execution_count": null,
      "outputs": []
    },
    {
      "cell_type": "code",
      "source": [
        "print(train.shape)\n",
        "print(test.shape)"
      ],
      "metadata": {
        "id": "sz96xwTYponI"
      },
      "execution_count": null,
      "outputs": []
    },
    {
      "cell_type": "markdown",
      "source": [
        "## Q3.3) Write code to build the model. Use 'SeriousDlqin2yrs' as target  variable and rest all as predictor variables. Print the beta co-efficients"
      ],
      "metadata": {
        "id": "0I4HfcVHRkQa"
      }
    },
    {
      "cell_type": "code",
      "source": [
        "X_train=train.drop('SeriousDlqin2yrs', axis=1)\n",
        "y_train=train['SeriousDlqin2yrs']\n",
        "\n",
        "X_test=test.drop('SeriousDlqin2yrs', axis=1)\n",
        "y_test=test['SeriousDlqin2yrs']"
      ],
      "metadata": {
        "id": "x4q9JqSKbaNQ"
      },
      "execution_count": null,
      "outputs": []
    },
    {
      "cell_type": "code",
      "source": [
        "from sklearn.linear_model import LogisticRegression\n",
        "\n",
        "model=LogisticRegression(max_iter=1000)\n",
        "model.fit(X_train, y_train)\n",
        "\n",
        "print(model.coef_)\n",
        "print(model.intercept_)"
      ],
      "metadata": {
        "id": "VM2HNry-baU0"
      },
      "execution_count": null,
      "outputs": []
    },
    {
      "cell_type": "code",
      "source": [],
      "metadata": {
        "id": "m_qBzJO2p8Rt"
      },
      "execution_count": null,
      "outputs": []
    },
    {
      "cell_type": "code",
      "source": [],
      "metadata": {
        "id": "5H0-8TOgp8Ue"
      },
      "execution_count": null,
      "outputs": []
    },
    {
      "cell_type": "code",
      "source": [],
      "metadata": {
        "id": "WAq0kj10p8Xw"
      },
      "execution_count": null,
      "outputs": []
    },
    {
      "cell_type": "markdown",
      "source": [
        "## Q3.4)Perform Model Validation and Cross Validation on train and test data. Print the confusion matrix and accuracies"
      ],
      "metadata": {
        "id": "PyzCtKBdRnBh"
      }
    },
    {
      "cell_type": "code",
      "source": [
        "from sklearn.metrics import confusion_matrix, accuracy_score\n",
        "y_pred_train=model.predict(X_train)\n",
        "y_pred_test=model.predict(X_test)\n",
        "\n",
        "print(confusion_matrix(y_train, y_pred_train))\n",
        "print(confusion_matrix(y_test, y_pred_test))\n",
        "\n",
        "print(accuracy_score(y_train, y_pred_train))\n",
        "print(accuracy_score(y_test, y_pred_test))\n"
      ],
      "metadata": {
        "id": "TFT1nMs7bd6T"
      },
      "execution_count": null,
      "outputs": []
    },
    {
      "cell_type": "code",
      "source": [],
      "metadata": {
        "id": "6mTmMY4KbeBN"
      },
      "execution_count": null,
      "outputs": []
    },
    {
      "cell_type": "markdown",
      "source": [
        "# Q4) Download the image from the below location and answer the below questions\n",
        "https://raw.githubusercontent.com/venkatareddykonasani/Datasets/master/Inoices/Invoice_3.png\n",
        "\n"
      ],
      "metadata": {
        "id": "55Wl2GxFVAhG"
      }
    },
    {
      "cell_type": "markdown",
      "source": [
        "# Q4.1) Upload the image on to Claude website, get the summary of the invoice images"
      ],
      "metadata": {
        "id": "Cg3k46aBWoGk"
      }
    },
    {
      "cell_type": "code",
      "source": [],
      "metadata": {
        "id": "2GuP0k7ORsmv"
      },
      "execution_count": null,
      "outputs": []
    },
    {
      "cell_type": "markdown",
      "source": [
        "## Q4.2) Ask questions to extract information like address mentioned in the invoice, invoice total amount, email address and bank account number."
      ],
      "metadata": {
        "id": "QsJtbAydW2i9"
      }
    },
    {
      "cell_type": "code",
      "source": [],
      "metadata": {
        "id": "3DF9i7hpXYQ1"
      },
      "execution_count": null,
      "outputs": []
    },
    {
      "cell_type": "markdown",
      "source": [
        "# Q5) What are the five key elements to consider when interacting with an LLM using prompts? Describe each element in two lines and include simple examples."
      ],
      "metadata": {
        "id": "lSirS1QXYOx2"
      }
    },
    {
      "cell_type": "code",
      "source": [
        "#REDDI\n",
        "\n",
        "#R - Role\n",
        "#E - Examples\n",
        "#D - Domain\n",
        "#D - Display\n",
        "#I - Iterations"
      ],
      "metadata": {
        "id": "oALUZeTsYNOm"
      },
      "execution_count": null,
      "outputs": []
    },
    {
      "cell_type": "markdown",
      "source": [
        "# Q6) Provide a list of the LLMs released by the world's top 10 companies.\n"
      ],
      "metadata": {
        "id": "TRge06QqZnU9"
      }
    },
    {
      "cell_type": "markdown",
      "source": [
        "https://www.vellum.ai/blog/llm-benchmarks-overview-limits-and-model-comparison"
      ],
      "metadata": {
        "id": "LBqxfwber2C5"
      }
    },
    {
      "cell_type": "code",
      "source": [
        "# 1) OpenAI- ChatGPT\n",
        "# 2)"
      ],
      "metadata": {
        "id": "Ac75bn_UaBR7"
      },
      "execution_count": null,
      "outputs": []
    },
    {
      "cell_type": "markdown",
      "source": [
        "# Q7) What data science and data analytics tasks can LLM models currently manage? Describe how they handle these tasks in 10 points."
      ],
      "metadata": {
        "id": "DAkILGI1aidU"
      }
    },
    {
      "cell_type": "code",
      "source": [
        "result=llm.invoke(\"\"\"\n",
        "What data science and data analytics tasks can LLM models currently manage?\n",
        "Describe how they handle these tasks in 10 points.\n",
        "\"\"\")\n",
        "print(result)"
      ],
      "metadata": {
        "id": "_LiqRrMcakPN"
      },
      "execution_count": null,
      "outputs": []
    },
    {
      "cell_type": "code",
      "source": [],
      "metadata": {
        "id": "NQKZ764psDDt"
      },
      "execution_count": null,
      "outputs": []
    }
  ]
}